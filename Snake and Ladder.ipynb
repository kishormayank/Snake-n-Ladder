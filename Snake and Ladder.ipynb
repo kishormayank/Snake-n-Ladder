{
 "cells": [
  {
   "cell_type": "code",
   "execution_count": 1,
   "metadata": {},
   "outputs": [],
   "source": [
    "def players():\n",
    "    name1=input(\"Enter the name of player 1: \")\n",
    "    name2=input(\"Enter the name of player 2: \")\n",
    "    print(\"Lets Begin The Game\")\n",
    "    return name1,name2"
   ]
  },
  {
   "cell_type": "code",
   "execution_count": 2,
   "metadata": {},
   "outputs": [],
   "source": [
    "import random\n",
    "def dice(mode):\n",
    "    if(mode==\"Auto\"):\n",
    "        turn=input(\"Your turn enter roll: \")\n",
    "        if(turn==\"roll\"):\n",
    "            dice_value=random.randint(1,6)\n",
    "            print(\"its a \"+str(dice_value))\n",
    "            \n",
    "    elif(mode==\"Mannual\"):\n",
    "        print(\"Enter a number between 1 to 20:\")\n",
    "        turn=int(input())\n",
    "        while(turn<1 or turn>20):\n",
    "            print(\"This dice value doesn't exsist\")\n",
    "            print(\"Enter a number between 1 to 20:\")\n",
    "            turn=int(input())\n",
    "        dice_value=int(turn)\n",
    "        print(\"its a \"+str(dice_value))\n",
    "       \n",
    "    return dice_value     \n",
    "        "
   ]
  },
  {
   "cell_type": "code",
   "execution_count": 3,
   "metadata": {},
   "outputs": [],
   "source": [
    "snakes={17 : 7, 54 : 34, 62 : 19, 98 : 79}\n",
    "ladders={3 : 38, 24 : 33, 42 : 93, 72 : 84}"
   ]
  },
  {
   "cell_type": "code",
   "execution_count": 4,
   "metadata": {},
   "outputs": [],
   "source": [
    "last=100\n",
    "current_position=0\n",
    "def game(player,current_position,dice_value):\n",
    "    old_position=current_position\n",
    "    current_position=current_position+dice_value\n",
    "    if(current_position>last):\n",
    "        print(\"You cannot move with this dice value so current value is: \",str(old_value))\n",
    "        return old_position\n",
    "    elif(current_position in snakes):\n",
    "        print(\"oops!! snake bite \")\n",
    "        current_position=snakes.get(current_position)\n",
    "        print(\"your current value dropped down to:\",str(current_position))\n",
    "        return current_position\n",
    "    elif(current_position in ladders):\n",
    "        print(\"Yayyy!! you climbed a ladder\")\n",
    "        current_position=ladders.get(current_position)\n",
    "        print(\"you raised your current value up to:\",str(current_position))\n",
    "        return current_position\n",
    "    else:\n",
    "        print(\"Your current value is: \",str(current_position))\n",
    "        return current_position\n",
    "    return current_position\n",
    "    "
   ]
  },
  {
   "cell_type": "code",
   "execution_count": 5,
   "metadata": {},
   "outputs": [],
   "source": [
    "import sys\n",
    "def win(player,current_position):\n",
    "    if(last==current_position):\n",
    "        print(\"Wohoooo!! \"+str(player)+\"is the Winner.... Congratulations!!\")\n",
    "        print(\"Thanks for Playing!! Visit Again\")\n",
    "        sys.exit()"
   ]
  },
  {
   "cell_type": "code",
   "execution_count": null,
   "metadata": {},
   "outputs": [
    {
     "name": "stdout",
     "output_type": "stream",
     "text": [
      "Enter the name of player 1: r\n",
      "Enter the name of player 2: y\n",
      "Lets Begin The Game\n",
      "choose the game mode- Auto or Mannual: Mannual\n",
      "Do you want to exit or continue:g\n",
      "r Its your turn...roll the dice\n",
      "Enter a number between 1 to 20:\n",
      "3\n",
      "its a 3\n",
      "moving\n",
      "Yayyy!! you climbed a ladder\n",
      "you raised your current value up to: 38\n"
     ]
    }
   ],
   "source": [
    "def snakeladder():\n",
    "    name1,name2=players()\n",
    "    player1=0\n",
    "    player2=0\n",
    "    mode=input(\"choose the game mode- Auto or Mannual: \")\n",
    "    while(1):\n",
    "        while(1):\n",
    "            if(mode==\"Auto\" or mode==\"Mannual\"):\n",
    "                break\n",
    "            else:\n",
    "                print(\"This mode doesnot exsist \")\n",
    "                mode=input(\"choose the game mode- Auto or Mannual:\")\n",
    "            \n",
    "        choice=input(\"Do you want to exit or continue:\")\n",
    "        if(choice==\"exit\"):\n",
    "            print(name1+\" left the game\")\n",
    "            print(name2+\" wins the game\")\n",
    "            print(\"Game Over\")\n",
    "            print(\"Thanks for playing... Visit Again\")\n",
    "            break\n",
    "        \n",
    "        else:\n",
    "            print(name1+\" Its your turn...roll the dice\")    \n",
    "            dice_value1=dice(mode)\n",
    "            print(\"moving\")\n",
    "            player1=game(name1,player1,dice_value1)\n",
    "            win(name1,player1)\n",
    "        \n",
    "        choice=input(\"Do you want to exit or continue:\")\n",
    "        if(choice==\"exit\"):\n",
    "            print(name2+\" left the game\")\n",
    "            print(name1+\" wins the game\")\n",
    "            print(\"Game Over\")\n",
    "            print(\"Thanks for playing... Visit Again\")\n",
    "            break\n",
    "        else:\n",
    "            print(name2+\" Its your turn...roll the dice\")\n",
    "            dice_value2=dice(mode)\n",
    "            print(\"moving\")\n",
    "            player2=game(name2,player2,dice_value2)\n",
    "            win(name2,player2)\n",
    "if __name__ == \"__main__\":\n",
    "    snakeladder()"
   ]
  },
  {
   "cell_type": "code",
   "execution_count": null,
   "metadata": {},
   "outputs": [],
   "source": []
  }
 ],
 "metadata": {
  "kernelspec": {
   "display_name": "Python 3",
   "language": "python",
   "name": "python3"
  },
  "language_info": {
   "codemirror_mode": {
    "name": "ipython",
    "version": 3
   },
   "file_extension": ".py",
   "mimetype": "text/x-python",
   "name": "python",
   "nbconvert_exporter": "python",
   "pygments_lexer": "ipython3",
   "version": "3.8.3"
  }
 },
 "nbformat": 4,
 "nbformat_minor": 4
}
